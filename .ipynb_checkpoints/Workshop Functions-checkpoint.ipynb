{
 "cells": [
  {
   "cell_type": "markdown",
   "metadata": {
    "colab_type": "text",
    "id": "aX9oCHrXqhIj"
   },
   "source": [
    "# 1. Math Drills\n",
    "\n",
    "Give an example of a binary relation on a set which is\n",
    "\n",
    "1. Reflexive and symmetric, but not transitive  \n",
    "2. Reflexive, but neither symmetric nor transitive  \n",
    "3. Symmetric, but neither reflexive nor transitive  \n",
    "4. Transitive, but neither reflexive nor symmetric  \n",
    "\n",
    "Recall the definitions from the lectures if you need to!"
   ]
  },
  {
   "cell_type": "code",
   "execution_count": null,
   "metadata": {},
   "outputs": [],
   "source": [
    "\"\"\"\n",
    "Let A = {1,2,3}\n",
    "\n",
    "A = {(1,1),(1,2),(2,1)}\n",
    "B = {(1,1),(2,2),(3,3)}\n",
    "C = {(1,2),(2,1)}\n",
    "D = {(1,2),(2,3),(1,3)}\n",
    "\n",
    "\n",
    "\"\"\""
   ]
  },
  {
   "cell_type": "markdown",
   "metadata": {},
   "source": [
    "# Exercise 2: A bunch of Math!\n",
    "\n",
    "## Polynomial\n",
    "\n",
    "Consider the polynomial\n",
    "\n",
    "$$\n",
    "p(x)\n",
    "= a_0 + a_1 x + a_2 x^2 + \\cdots a_n x^n\n",
    "= \\sum_{i=0}^n a_i x^i \\tag{1}\n",
    "$$\n",
    "\n",
    "Write a function `p` such that `p(x, coeff)` that computes the value in given a point `x` and a list of coefficients `coeff`.\n",
    "\n",
    "```\n",
    "p(5, [1, 1]) = 1 + 5 = 6\n",
    "p(5, [2, 1, 1]) = 2 + 5 + 25 = 32\n",
    "```"
   ]
  },
  {
   "cell_type": "code",
   "execution_count": 28,
   "metadata": {},
   "outputs": [
    {
     "name": "stdout",
     "output_type": "stream",
     "text": [
      "6\n",
      "32\n"
     ]
    }
   ],
   "source": [
    "def p(x, coeff):\n",
    "    sum1=coeff[0]\n",
    "    for i in range(1,len(coeff)):\n",
    "        sum1+=x**i\n",
    "    print(sum1)\n",
    "    \n",
    "p(5, [1, 1])\n",
    "p(5, [2, 1, 1])"
   ]
  },
  {
   "cell_type": "code",
   "execution_count": null,
   "metadata": {},
   "outputs": [],
   "source": []
  },
  {
   "cell_type": "markdown",
   "metadata": {},
   "source": [
    "# Variance\n",
    "\n",
    "Define a function named `var` that takes a list of numbers and computes the variance. The variance is:\n",
    "\n",
    "$$variance(x) = \\frac{∑_i^N(x_i − average(x))^2}{N-1}$$\n",
    "\n",
    "Don't cheat and use `numpy.var`! You should only use that function to test that your function is correct"
   ]
  },
  {
   "cell_type": "code",
   "execution_count": 45,
   "metadata": {},
   "outputs": [
    {
     "name": "stdout",
     "output_type": "stream",
     "text": [
      "8.16\n",
      "8.16\n"
     ]
    }
   ],
   "source": [
    "import numpy as np\n",
    "def var(list1):\n",
    "    sum1 = 0\n",
    "    sum2 = 0\n",
    "    length = len(list1)\n",
    "    \n",
    "    for num in list1:\n",
    "        sum1+=num\n",
    "      \n",
    "    average = (sum1/length)\n",
    "    \n",
    "    for diff in list1:\n",
    "        sum2 += (diff - average)**2\n",
    "    print(sum2/length)\n",
    "\n",
    "        \n",
    "grades = [88, 82, 85, 84, 90]\n",
    "var(grades)\n",
    "mean = np.mean(grades)\n",
    "variance = np.var(grades) #to test\n",
    "print(variance)"
   ]
  },
  {
   "cell_type": "markdown",
   "metadata": {},
   "source": [
    "# RMSE\n",
    "\n",
    "Calculate the root mean squared error (RMSE) of a machine learning model's output. The function takes in two lists: one with actual values, one with predictions. The formula for RMSE is:\n",
    "\n",
    "$$RMSE(y_1, y_2) = \\sqrt{\\dfrac{1}{N} \\sum_{i=1}^N (y_{1i} - y_{2i})^2}$$\n",
    "\n",
    "```\n",
    "    rmse([1, 2], [1, 2]) = 0\n",
    "    rmse([1, 2, 3], [3, 2, 1]) = 1.63\n",
    "```\n",
    "\n",
    "You can use \n",
    "\n",
    "```\n",
    "sklearn.metrics.mean_squared_error(y_actual, y_predicted, squared=False)\n",
    "```\n",
    "\n",
    "To test your function"
   ]
  },
  {
   "cell_type": "code",
   "execution_count": 71,
   "metadata": {},
   "outputs": [
    {
     "name": "stdout",
     "output_type": "stream",
     "text": [
      "0.0\n",
      "1.632993161855452\n"
     ]
    }
   ],
   "source": [
    "import sklearn\n",
    "\n",
    "def rmse(lst1,lst2):\n",
    "    length = len(lst1)\n",
    "    sum = 0\n",
    "    for i in range(len(lst1)):\n",
    "        sum+=(lst1[i] - lst2[i])**2\n",
    "    \n",
    "    sqrt = (sum/length)**(1/2)\n",
    "    print(sqrt)\n",
    "\n",
    "rmse([1, 2], [1, 2])\n",
    "rmse([1, 2, 3], [3, 2, 1])\n"
   ]
  },
  {
   "cell_type": "markdown",
   "metadata": {},
   "source": [
    "# Jaccard Similarity\n",
    "\n",
    "The Jaccard similarity between two sets is the size of intersection divided by the size of union. Write a function that computes it:\n",
    "\n",
    "$$jaccard(A, B) = \\dfrac{|A \\cap B|}{|A \\cup B|}$$\n",
    "\n",
    "\n",
    "```\n",
    "jaccard({'a', 'b', 'c'}, {'a', 'd'}) = 1 / 4\n",
    "```\n",
    "\n"
   ]
  },
  {
   "cell_type": "code",
   "execution_count": 70,
   "metadata": {},
   "outputs": [
    {
     "name": "stdout",
     "output_type": "stream",
     "text": [
      "{'a'}\n",
      "{'d', 'b', 'c', 'a'}\n",
      "0.25\n"
     ]
    }
   ],
   "source": [
    "def jaccard(set1,set2):\n",
    "    a = set1.intersection(set2)\n",
    "    print(a)\n",
    "    b = set1.union(set2)\n",
    "    print(b)\n",
    "    print(len(a)/len(b))\n",
    "jaccard({'a', 'b', 'c'}, {'a', 'd'})"
   ]
  },
  {
   "cell_type": "markdown",
   "metadata": {},
   "source": [
    "# Exercise 3\n",
    "\n",
    "First, write a function that returns one realization of the following random device\n",
    "\n",
    "1. Flip an unbiased coin 10 times.  \n",
    "1. If a head occurs `k` or more times consecutively within this sequence at least once, pay one dollar.  \n",
    "1. If not, pay nothing.  \n",
    "\n",
    "\n",
    "Second, write another function that does the same task except that the second rule of the above random device becomes\n",
    "\n",
    "- If a head occurs `k` or more times within this sequence, pay one dollar.  \n",
    "\n",
    "\n",
    "Use no import besides `from numpy.random import uniform`."
   ]
  },
  {
   "cell_type": "code",
   "execution_count": 2,
   "metadata": {},
   "outputs": [
    {
     "name": "stdout",
     "output_type": "stream",
     "text": [
      "[1, 1, 1, 0, 0, 1, 0, 0, 1, 1, 0]\n",
      "[1, 1, 1, 1, 1]\n",
      "0\n",
      "[1, 1, 1, 1, 1, 0, 0, 0, 0, 0, 0]\n",
      "[1, 1, 1, 1]\n",
      "2\n",
      "[1, 0, 0, 0, 1, 1, 1, 1, 1, 0, 0]\n",
      "[1, 1, 1]\n",
      "3\n",
      "[0, 1, 1, 0, 0, 1, 0, 0, 1, 1, 1]\n",
      "[1, 1]\n",
      "3\n"
     ]
    }
   ],
   "source": [
    "from numpy.random import uniform\n",
    "\n",
    "#part 1\n",
    "def pay(k):\n",
    "    flip = []\n",
    "    sequence = [] \n",
    "    count = 0\n",
    "    while len(flip) <=10:\n",
    "        flip.append(1 if uniform(0,1) >= 0.5 else 0)\n",
    "    print(flip)\n",
    "\n",
    "    for num in range(k):\n",
    "        sequence.append(1)\n",
    "    print(sequence)\n",
    "    \n",
    "    for i in range(len(flip)):\n",
    "        if flip[i:i+len(sequence)] == sequence:\n",
    "            count+=1\n",
    "        else:\n",
    "            count\n",
    "    print(count)\n",
    "\n",
    "pay(5)\n",
    "pay(4)\n",
    "pay(3)\n",
    "pay(2)"
   ]
  },
  {
   "cell_type": "code",
   "execution_count": 4,
   "metadata": {},
   "outputs": [
    {
     "name": "stdout",
     "output_type": "stream",
     "text": [
      "[1, 0, 1, 1, 1, 0, 0, 1, 1, 0, 1]\n",
      "7\n",
      "[0, 1, 0, 0, 1, 0, 0, 1, 1, 0, 0]\n",
      "4\n",
      "[1, 0, 0, 1, 0, 1, 0, 0, 0, 0, 0]\n",
      "3\n",
      "[0, 1, 1, 0, 1, 0, 1, 0, 1, 0, 0]\n",
      "5\n"
     ]
    }
   ],
   "source": [
    "#part 2\n",
    "from numpy.random import uniform\n",
    "def pay(k):\n",
    "    flip = []\n",
    "    count = 0\n",
    "    while len(flip) <=10:\n",
    "        flip.append(1 if uniform(0,1) >= 0.5 else 0)\n",
    "    print(flip)#test if I'm doing something right\n",
    "\n",
    "    for i in range(len(flip)):\n",
    "        if flip[i] == 1:\n",
    "            count+=1\n",
    "        else:\n",
    "            count\n",
    "    print(count)\n",
    "\n",
    "pay(5)\n",
    "pay(4)\n",
    "pay(3)\n",
    "pay(2)"
   ]
  },
  {
   "cell_type": "markdown",
   "metadata": {},
   "source": [
    "# Exercise 4: Logistic Map fixed point\n",
    "\n",
    "The **Logistic Map** is a famous function from Chaos Theory which is defined as:\n",
    "\n",
    "$$x_{t+1} = r \\cdot x_t(1−x_t)$$\n",
    "\n",
    "with the conditions:\n",
    "\n",
    "$$x_0 ∈ [0,1], r ∈[0,4]$$\n",
    "\n",
    "Write a lambda $f = logistic(x, r)$, that's successively applied to itself $n$ times through a second function `logistic_n_times(x0, f, r, n)` with the inital point $X_0$\n",
    "\n",
    "Make a few runs of this for various values of `x0` and `r`. Answer the following:\n",
    "\n",
    "- Can you find a fixed point? \n",
    "\n",
    "- At what values of `r` are there fixed points? \n",
    "\n",
    "- Are there any ranges of input for which the function is an attractor?"
   ]
  },
  {
   "cell_type": "code",
   "execution_count": 66,
   "metadata": {},
   "outputs": [
    {
     "name": "stdout",
     "output_type": "stream",
     "text": [
      "0.32\n",
      "0.43520000000000003\n",
      "0.49160192\n",
      "0.4998589445046272\n",
      "0.49999996020669446\n",
      "0.49999999999999684\n",
      "0.5\n",
      "0.5\n",
      "0.5\n",
      "None\n"
     ]
    },
    {
     "data": {
      "text/plain": [
       "'Can you find a fixed point? Yes\\nAt what values of r are there fixed points? \\nAre there any ranges of input for which the function is an attractor?'"
      ]
     },
     "execution_count": 66,
     "metadata": {},
     "output_type": "execute_result"
    }
   ],
   "source": [
    "f = lambda x, r: r *(x-x**2)\n",
    "\n",
    "def logistic_n_times(x0,f,r,n):\n",
    "    x = x0\n",
    "    for i in range(n):\n",
    "        x=f(x,r)\n",
    "        print(x)\n",
    "\n",
    "print(logistic_n_times(.2,f,2,9))\n",
    "\"\"\"Can you find a fixed point? Yes\n",
    "At what values of r are there fixed points? IF r = 2, after x= 7\n",
    "Are there any ranges of input for which the function is an attractor?\"\"\""
   ]
  },
  {
   "cell_type": "markdown",
   "metadata": {},
   "source": [
    "# Exercise 5 (stretch): Famous Chaos Theory Plot \n",
    "\n",
    "There is a famous plot in chaos theory of the logistic map that relates values of the attractors in $x_t$ for values of $r$, detailing where the function tends to \"end up\" for each value of $r$.\n",
    "\n",
    "<img src=\"logistic map.png\" style=\"width: 400px;\">\n",
    "\n",
    "Reproduce this plot using the `matplotlib` package.\n",
    "\n",
    "**Hint:** Produce samples from the function to fill arrays on the x and y axis!\n",
    "\n",
    "**Hint:** Take the final 50 values in a series of data points produced by the function!"
   ]
  },
  {
   "cell_type": "code",
   "execution_count": null,
   "metadata": {},
   "outputs": [],
   "source": []
  }
 ],
 "metadata": {
  "colab": {
   "authorship_tag": "ABX9TyO6ouX4mUPsrtNoh84NFVy3",
   "collapsed_sections": [],
   "name": "Workshop Functions.ipynb",
   "provenance": []
  },
  "kernelspec": {
   "display_name": "Python 3",
   "language": "python",
   "name": "python3"
  },
  "language_info": {
   "codemirror_mode": {
    "name": "ipython",
    "version": 3
   },
   "file_extension": ".py",
   "mimetype": "text/x-python",
   "name": "python",
   "nbconvert_exporter": "python",
   "pygments_lexer": "ipython3",
   "version": "3.8.3"
  }
 },
 "nbformat": 4,
 "nbformat_minor": 1
}
